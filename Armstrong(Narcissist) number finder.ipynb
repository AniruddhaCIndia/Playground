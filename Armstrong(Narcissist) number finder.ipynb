{
 "cells": [
  {
   "cell_type": "code",
   "execution_count": 15,
   "id": "38cc5bdc",
   "metadata": {},
   "outputs": [],
   "source": [
    "import numpy as np"
   ]
  },
  {
   "cell_type": "code",
   "execution_count": 5,
   "id": "5708b3a1",
   "metadata": {},
   "outputs": [],
   "source": [
    "def find_digits(a):\n",
    "    b = str(a)\n",
    "    x = list(b)\n",
    "    return x"
   ]
  },
  {
   "cell_type": "code",
   "execution_count": 7,
   "id": "abb0c36d",
   "metadata": {},
   "outputs": [
    {
     "data": {
      "text/plain": [
       "['1', '0', '2', '9']"
      ]
     },
     "execution_count": 7,
     "metadata": {},
     "output_type": "execute_result"
    }
   ],
   "source": [
    "find_digits(1029)"
   ]
  },
  {
   "cell_type": "code",
   "execution_count": 18,
   "id": "103cb1b4",
   "metadata": {},
   "outputs": [],
   "source": [
    "def narcissistic(a):\n",
    "    a_list = find_digits(a)\n",
    "    N = len(a_list)\n",
    "    s = 0\n",
    "    for i in range(N):\n",
    "        s = s + int(a_list[i])**N\n",
    "    return s==a"
   ]
  },
  {
   "cell_type": "code",
   "execution_count": 19,
   "id": "391e1c3a",
   "metadata": {},
   "outputs": [
    {
     "data": {
      "text/plain": [
       "True"
      ]
     },
     "execution_count": 19,
     "metadata": {},
     "output_type": "execute_result"
    }
   ],
   "source": [
    "narcissistic(153)"
   ]
  },
  {
   "cell_type": "code",
   "execution_count": 20,
   "id": "a6ce1b15",
   "metadata": {},
   "outputs": [
    {
     "data": {
      "text/plain": [
       "False"
      ]
     },
     "execution_count": 20,
     "metadata": {},
     "output_type": "execute_result"
    }
   ],
   "source": [
    "narcissistic(9475)"
   ]
  },
  {
   "cell_type": "code",
   "execution_count": 21,
   "id": "18958a52",
   "metadata": {},
   "outputs": [],
   "source": [
    "def narcissistic_range(low, up):\n",
    "    array = np.arange(low, up+1)\n",
    "    for i in range(len(array)):\n",
    "        if narcissistic(array[i]):\n",
    "            print(array[i])"
   ]
  },
  {
   "cell_type": "code",
   "execution_count": 22,
   "id": "c74cb432",
   "metadata": {},
   "outputs": [
    {
     "name": "stdout",
     "output_type": "stream",
     "text": [
      "153\n",
      "370\n",
      "371\n",
      "407\n",
      "1634\n",
      "8208\n",
      "9474\n"
     ]
    }
   ],
   "source": [
    "narcissistic_range(100, 10000)"
   ]
  },
  {
   "cell_type": "code",
   "execution_count": null,
   "id": "83f4e671",
   "metadata": {},
   "outputs": [],
   "source": []
  }
 ],
 "metadata": {
  "kernelspec": {
   "display_name": "Python 3 (ipykernel)",
   "language": "python",
   "name": "python3"
  },
  "language_info": {
   "codemirror_mode": {
    "name": "ipython",
    "version": 3
   },
   "file_extension": ".py",
   "mimetype": "text/x-python",
   "name": "python",
   "nbconvert_exporter": "python",
   "pygments_lexer": "ipython3",
   "version": "3.11.5"
  }
 },
 "nbformat": 4,
 "nbformat_minor": 5
}

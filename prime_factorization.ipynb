{
 "cells": [
  {
   "cell_type": "code",
   "execution_count": 301,
   "id": "7d62c211",
   "metadata": {},
   "outputs": [],
   "source": [
    "def factors(n):\n",
    "    \n",
    "    if n>=2:\n",
    "        \n",
    "        array = []\n",
    "        for i in range(2, n//2 + 1):\n",
    "            if n%i == 0:\n",
    "                array.append(i)\n",
    "\n",
    "        if len(array)==0:\n",
    "            return [n]\n",
    "        if n == array[-1]**2:\n",
    "            array.append(array[-1])\n",
    "            return array\n",
    "        else:\n",
    "            return array\n",
    "        \n",
    "    else:\n",
    "        return []"
   ]
  },
  {
   "cell_type": "code",
   "execution_count": 302,
   "id": "bd33d9b7",
   "metadata": {},
   "outputs": [],
   "source": [
    "def prime_factorization(n):\n",
    "    arr=factors(n)\n",
    "    \n",
    "    if len(arr)==0:\n",
    "        return []\n",
    "    \n",
    "    if len(arr)==1:\n",
    "        return arr\n",
    "    \n",
    "    else:\n",
    "        prime_arr = []\n",
    "        prime_arr.append(arr[0])\n",
    "    \n",
    "        arr2 = factors(arr[-1])\n",
    "        \n",
    "        while len(arr2)>1:\n",
    "            prime_arr.append(arr2[0])\n",
    "            arr2 = factors(arr2[-1])\n",
    "        if len(arr2)==1:\n",
    "            prime_arr.append(arr2[0])\n",
    "             \n",
    "        return prime_arr"
   ]
  },
  {
   "cell_type": "code",
   "execution_count": 314,
   "id": "b1355542",
   "metadata": {},
   "outputs": [
    {
     "data": {
      "text/plain": [
       "[3,\n",
       " 79,\n",
       " 127,\n",
       " 237,\n",
       " 381,\n",
       " 1033,\n",
       " 3099,\n",
       " 10033,\n",
       " 30099,\n",
       " 81607,\n",
       " 131191,\n",
       " 244821,\n",
       " 393573,\n",
       " 10364089]"
      ]
     },
     "execution_count": 314,
     "metadata": {},
     "output_type": "execute_result"
    }
   ],
   "source": [
    "factors(3099*10033)"
   ]
  },
  {
   "cell_type": "code",
   "execution_count": 315,
   "id": "a758d6f1",
   "metadata": {},
   "outputs": [
    {
     "data": {
      "text/plain": [
       "[3, 79, 127, 1033]"
      ]
     },
     "execution_count": 315,
     "metadata": {},
     "output_type": "execute_result"
    }
   ],
   "source": [
    "prime_factorization(3099*10033)"
   ]
  },
  {
   "cell_type": "code",
   "execution_count": null,
   "id": "2a2af3d3",
   "metadata": {},
   "outputs": [],
   "source": []
  },
  {
   "cell_type": "code",
   "execution_count": 324,
   "id": "8f70aba4",
   "metadata": {},
   "outputs": [],
   "source": [
    "### Alternate solution: By whom who must not be named ###"
   ]
  },
  {
   "cell_type": "code",
   "execution_count": 325,
   "id": "3f4896af",
   "metadata": {},
   "outputs": [
    {
     "name": "stdout",
     "output_type": "stream",
     "text": [
      "[2, 2, 3, 5]\n",
      "[13]\n",
      "[]\n",
      "[3, 79, 127, 1033]\n"
     ]
    }
   ],
   "source": [
    "def factors(n):\n",
    "    # Return the smallest factor of n or n itself if it's prime\n",
    "    for i in range(2, int(n**0.5) + 1):  # Only check up to sqrt(n)\n",
    "        if n % i == 0:\n",
    "            return i\n",
    "    return n  # If no factors, n is prime\n",
    "\n",
    "def prime_factorization(n):\n",
    "    if n < 2:\n",
    "        return []  # No prime factors for numbers < 2\n",
    "    \n",
    "    prime_factors = []\n",
    "    while n > 1:\n",
    "        smallest_factor = factors(n)\n",
    "        prime_factors.append(smallest_factor)\n",
    "        n //= smallest_factor  # Reduce n by dividing with the smallest factor\n",
    "    return prime_factors\n",
    "\n",
    "# Test cases\n",
    "print(prime_factorization(60))  # [2, 2, 3, 5]\n",
    "print(prime_factorization(13))  # [13]\n",
    "print(prime_factorization(1))   # []\n",
    "print(prime_factorization(3099*10033)) # [2, 2, 5, 5]\n"
   ]
  },
  {
   "cell_type": "code",
   "execution_count": 326,
   "id": "2dcf3b47",
   "metadata": {},
   "outputs": [
    {
     "data": {
      "text/plain": [
       "'\\nYou can find the smallest prime number factor of a number, divide the original by this and continue it\\n'"
      ]
     },
     "execution_count": 326,
     "metadata": {},
     "output_type": "execute_result"
    }
   ],
   "source": [
    "\"\"\"\n",
    "You can find the smallest prime number factor of a number, divide the original by this and continue it\n",
    "\"\"\""
   ]
  },
  {
   "cell_type": "code",
   "execution_count": null,
   "id": "023d121e",
   "metadata": {},
   "outputs": [],
   "source": []
  }
 ],
 "metadata": {
  "kernelspec": {
   "display_name": "Python 3 (ipykernel)",
   "language": "python",
   "name": "python3"
  },
  "language_info": {
   "codemirror_mode": {
    "name": "ipython",
    "version": 3
   },
   "file_extension": ".py",
   "mimetype": "text/x-python",
   "name": "python",
   "nbconvert_exporter": "python",
   "pygments_lexer": "ipython3",
   "version": "3.11.5"
  }
 },
 "nbformat": 4,
 "nbformat_minor": 5
}

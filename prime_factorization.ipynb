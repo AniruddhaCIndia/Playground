{
 "cells": [
  {
   "cell_type": "code",
   "execution_count": 301,
   "id": "75c6b5f6",
   "metadata": {},
   "outputs": [],
   "source": [
    "def factors(n):\n",
    "    \n",
    "    if n>=2:\n",
    "        \n",
    "        array = []\n",
    "        for i in range(2, n//2 + 1):\n",
    "            if n%i == 0:\n",
    "                array.append(i)\n",
    "\n",
    "        if len(array)==0:\n",
    "            return [n]\n",
    "        if n == array[-1]**2:\n",
    "            array.append(array[-1])\n",
    "            return array\n",
    "        else:\n",
    "            return array\n",
    "        \n",
    "    else:\n",
    "        return []"
   ]
  },
  {
   "cell_type": "code",
   "execution_count": 302,
   "id": "832d9453",
   "metadata": {},
   "outputs": [],
   "source": [
    "def prime_factorization(n):\n",
    "    arr=factors(n)\n",
    "    \n",
    "    if len(arr)==0:\n",
    "        return []\n",
    "    \n",
    "    if len(arr)==1:\n",
    "        return arr\n",
    "    \n",
    "    else:\n",
    "        prime_arr = []\n",
    "        prime_arr.append(arr[0])\n",
    "    \n",
    "        arr2 = factors(arr[-1])\n",
    "        \n",
    "        while len(arr2)>1:\n",
    "            prime_arr.append(arr2[0])\n",
    "            arr2 = factors(arr2[-1])\n",
    "        if len(arr2)==1:\n",
    "            prime_arr.append(arr2[0])\n",
    "             \n",
    "        return prime_arr"
   ]
  },
  {
   "cell_type": "code",
   "execution_count": 314,
   "id": "ca8a5f88",
   "metadata": {},
   "outputs": [
    {
     "data": {
      "text/plain": [
       "[3,\n",
       " 79,\n",
       " 127,\n",
       " 237,\n",
       " 381,\n",
       " 1033,\n",
       " 3099,\n",
       " 10033,\n",
       " 30099,\n",
       " 81607,\n",
       " 131191,\n",
       " 244821,\n",
       " 393573,\n",
       " 10364089]"
      ]
     },
     "execution_count": 314,
     "metadata": {},
     "output_type": "execute_result"
    }
   ],
   "source": [
    "factors(3099*10033)"
   ]
  },
  {
   "cell_type": "code",
   "execution_count": 315,
   "id": "4f19c77a",
   "metadata": {},
   "outputs": [
    {
     "data": {
      "text/plain": [
       "[3, 79, 127, 1033]"
      ]
     },
     "execution_count": 315,
     "metadata": {},
     "output_type": "execute_result"
    }
   ],
   "source": [
    "prime_factorization(3099*10033)"
   ]
  },
  {
   "cell_type": "code",
   "execution_count": null,
   "id": "2342f89f",
   "metadata": {},
   "outputs": [],
   "source": []
  },
  {
   "cell_type": "code",
   "execution_count": null,
   "id": "1ece4ad8",
   "metadata": {},
   "outputs": [],
   "source": []
  }
 ],
 "metadata": {
  "kernelspec": {
   "display_name": "Python 3 (ipykernel)",
   "language": "python",
   "name": "python3"
  },
  "language_info": {
   "codemirror_mode": {
    "name": "ipython",
    "version": 3
   },
   "file_extension": ".py",
   "mimetype": "text/x-python",
   "name": "python",
   "nbconvert_exporter": "python",
   "pygments_lexer": "ipython3",
   "version": "3.11.5"
  }
 },
 "nbformat": 4,
 "nbformat_minor": 5
}

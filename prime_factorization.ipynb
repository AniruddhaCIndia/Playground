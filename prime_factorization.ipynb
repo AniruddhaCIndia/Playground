{
 "cells": [
  {
   "cell_type": "code",
   "execution_count": 273,
   "id": "9c6aa0a6",
   "metadata": {},
   "outputs": [],
   "source": [
    "def factors(n):\n",
    "    array = []\n",
    "    for i in range(2, n):\n",
    "        if n%i == 0:\n",
    "            array.append(i)\n",
    "            \n",
    "    if len(array)==0:\n",
    "        return [n]\n",
    "    \n",
    "    if n == array[-1]**2:\n",
    "        array.append(array[-1])\n",
    "        return array\n",
    "    \n",
    "    else:\n",
    "        return array"
   ]
  },
  {
   "cell_type": "code",
   "execution_count": 274,
   "id": "efd8058c",
   "metadata": {},
   "outputs": [],
   "source": [
    "def prime_factorization(n):\n",
    "    arr=factors(n)\n",
    "    \n",
    "    if len(arr)==1:\n",
    "        return arr\n",
    "    \n",
    "    else:\n",
    "        prime_arr = []\n",
    "        prime_arr.append(arr[0])\n",
    "    \n",
    "        arr2 = factors(arr[-1])\n",
    "        \n",
    "        while len(arr2)>1:\n",
    "            prime_arr.append(arr2[0])\n",
    "            arr2 = factors(arr2[-1])\n",
    "        if len(arr2)==1:\n",
    "            prime_arr.append(arr2[0])\n",
    "             \n",
    "        return prime_arr"
   ]
  },
  {
   "cell_type": "code",
   "execution_count": 275,
   "id": "a4baa665",
   "metadata": {},
   "outputs": [
    {
     "data": {
      "text/plain": [
       "[3, 1033, 3099, 1067089]"
      ]
     },
     "execution_count": 275,
     "metadata": {},
     "output_type": "execute_result"
    }
   ],
   "source": [
    "factors(3099*1033)"
   ]
  },
  {
   "cell_type": "code",
   "execution_count": 280,
   "id": "7268779d",
   "metadata": {},
   "outputs": [
    {
     "data": {
      "text/plain": [
       "[3, 1033, 1033]"
      ]
     },
     "execution_count": 280,
     "metadata": {},
     "output_type": "execute_result"
    }
   ],
   "source": [
    "prime_factorization(3099*1033)"
   ]
  },
  {
   "cell_type": "code",
   "execution_count": null,
   "id": "2852aadf",
   "metadata": {},
   "outputs": [],
   "source": []
  },
  {
   "cell_type": "code",
   "execution_count": null,
   "id": "200b0620",
   "metadata": {},
   "outputs": [],
   "source": []
  }
 ],
 "metadata": {
  "kernelspec": {
   "display_name": "Python 3 (ipykernel)",
   "language": "python",
   "name": "python3"
  },
  "language_info": {
   "codemirror_mode": {
    "name": "ipython",
    "version": 3
   },
   "file_extension": ".py",
   "mimetype": "text/x-python",
   "name": "python",
   "nbconvert_exporter": "python",
   "pygments_lexer": "ipython3",
   "version": "3.11.5"
  }
 },
 "nbformat": 4,
 "nbformat_minor": 5
}

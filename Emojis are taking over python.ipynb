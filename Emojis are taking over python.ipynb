{
 "cells": [
  {
   "cell_type": "markdown",
   "id": "7e1d3a75",
   "metadata": {},
   "source": [
    "Find all emojis here:\n",
    "https://carpedm20.github.io/emoji/"
   ]
  },
  {
   "cell_type": "code",
   "execution_count": 20,
   "id": "109fc086",
   "metadata": {},
   "outputs": [
    {
     "name": "stdout",
     "output_type": "stream",
     "text": [
      "B for 🏀\n"
     ]
    }
   ],
   "source": [
    "import emoji\n",
    "print(emoji.emojize('B for :basketball:'))"
   ]
  },
  {
   "cell_type": "code",
   "execution_count": 24,
   "id": "96a4c1d4",
   "metadata": {},
   "outputs": [
    {
     "name": "stdout",
     "output_type": "stream",
     "text": [
      "Emojis is fun 😃\n"
     ]
    }
   ],
   "source": [
    "print(\"Emojis is fun \\U0001f603\")"
   ]
  },
  {
   "cell_type": "markdown",
   "id": "1c738c52",
   "metadata": {},
   "source": [
    "For a complete list of unicode emojis visit: https://unicode.org/emoji/charts/full-emoji-list.html#1f600"
   ]
  },
  {
   "cell_type": "code",
   "execution_count": null,
   "id": "8ad2c806",
   "metadata": {},
   "outputs": [],
   "source": []
  }
 ],
 "metadata": {
  "kernelspec": {
   "display_name": "Python 3 (ipykernel)",
   "language": "python",
   "name": "python3"
  },
  "language_info": {
   "codemirror_mode": {
    "name": "ipython",
    "version": 3
   },
   "file_extension": ".py",
   "mimetype": "text/x-python",
   "name": "python",
   "nbconvert_exporter": "python",
   "pygments_lexer": "ipython3",
   "version": "3.11.5"
  }
 },
 "nbformat": 4,
 "nbformat_minor": 5
}

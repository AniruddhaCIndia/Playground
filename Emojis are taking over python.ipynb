{
 "cells": [
  {
   "cell_type": "markdown",
   "id": "069fdfbc",
   "metadata": {},
   "source": [
    "Find all emojis here:\n",
    "https://carpedm20.github.io/emoji/"
   ]
  },
  {
   "cell_type": "code",
   "execution_count": 20,
   "id": "e43dd166",
   "metadata": {},
   "outputs": [
    {
     "name": "stdout",
     "output_type": "stream",
     "text": [
      "B for 🏀\n"
     ]
    }
   ],
   "source": [
    "import emoji\n",
    "print(emoji.emojize('B for :basketball:'))"
   ]
  },
  {
   "cell_type": "code",
   "execution_count": 24,
   "id": "39b99c6a",
   "metadata": {},
   "outputs": [
    {
     "name": "stdout",
     "output_type": "stream",
     "text": [
      "Emojis is fun 😃\n"
     ]
    }
   ],
   "source": [
    "print(\"Emojis is fun \\U0001f603\")"
   ]
  },
  {
   "cell_type": "code",
   "execution_count": null,
   "id": "8ec8b5db",
   "metadata": {},
   "outputs": [],
   "source": []
  }
 ],
 "metadata": {
  "kernelspec": {
   "display_name": "Python 3 (ipykernel)",
   "language": "python",
   "name": "python3"
  },
  "language_info": {
   "codemirror_mode": {
    "name": "ipython",
    "version": 3
   },
   "file_extension": ".py",
   "mimetype": "text/x-python",
   "name": "python",
   "nbconvert_exporter": "python",
   "pygments_lexer": "ipython3",
   "version": "3.11.5"
  }
 },
 "nbformat": 4,
 "nbformat_minor": 5
}

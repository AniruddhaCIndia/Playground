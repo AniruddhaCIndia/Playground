{
 "cells": [
  {
   "cell_type": "code",
   "execution_count": 3,
   "id": "4f1890c0",
   "metadata": {},
   "outputs": [],
   "source": [
    "import string\n",
    "alphabet = list(string.ascii_lowercase)"
   ]
  },
  {
   "cell_type": "code",
   "execution_count": 182,
   "id": "31df7f6a",
   "metadata": {},
   "outputs": [],
   "source": [
    "def decode_cipher_1(input_string, shift):\n",
    "    string = input_string.lower()\n",
    "    for i in range(len(string)):\n",
    "        for j in range(len(alphabet)):\n",
    "            if string[i] == alphabet[j]:\n",
    "                idx = j\n",
    "                new_idx = (int(j) + int(shift))%26\n",
    "                new_letter = alphabet[new_idx]\n",
    "                string = string[:i] + new_letter + string[i+1:]\n",
    "                break\n",
    "            else:\n",
    "                pass\n",
    "    return string"
   ]
  },
  {
   "cell_type": "code",
   "execution_count": 183,
   "id": "08b1888e",
   "metadata": {},
   "outputs": [],
   "source": [
    "def decode_cipher_2(input_string, shift):\n",
    "    case_info = []\n",
    "    string = input_string.lower()\n",
    "    for i in range(len(string)):\n",
    "        for j in range(len(alphabet)):\n",
    "            if string[i] == alphabet[j] and string[i] == input_string[i]:\n",
    "                idx = j\n",
    "                new_idx = (int(j) + int(shift))%26\n",
    "                new_letter = alphabet[new_idx]\n",
    "                string = string[:i] + new_letter + string[i+1:]\n",
    "                break\n",
    "            if string[i] == alphabet[j] and string[i] != input_string[i]:\n",
    "                idx = j\n",
    "                new_idx = (int(j) + int(shift))%26\n",
    "                new_letter = alphabet[new_idx]\n",
    "                string = string[:i] + new_letter.upper() + string[i+1:]\n",
    "                break\n",
    "            else:\n",
    "                pass\n",
    "    return string"
   ]
  },
  {
   "cell_type": "code",
   "execution_count": 184,
   "id": "690ed136",
   "metadata": {},
   "outputs": [],
   "source": [
    "def decode_cipher(input_string, shift, case=True):\n",
    "    if case:\n",
    "        return decode_cipher_2(input_string, shift)\n",
    "    else:\n",
    "        return decode_cipher(input_string, shift)"
   ]
  },
  {
   "cell_type": "code",
   "execution_count": 204,
   "id": "39890c61",
   "metadata": {},
   "outputs": [
    {
     "data": {
      "text/plain": [
       "'Dan da dan'"
      ]
     },
     "execution_count": 204,
     "metadata": {},
     "output_type": "execute_result"
    }
   ],
   "source": [
    "decode_cipher('Ure ur ure', shift=-17, case=True)"
   ]
  },
  {
   "cell_type": "code",
   "execution_count": null,
   "id": "91a94997",
   "metadata": {},
   "outputs": [],
   "source": []
  }
 ],
 "metadata": {
  "kernelspec": {
   "display_name": "Python 3 (ipykernel)",
   "language": "python",
   "name": "python3"
  },
  "language_info": {
   "codemirror_mode": {
    "name": "ipython",
    "version": 3
   },
   "file_extension": ".py",
   "mimetype": "text/x-python",
   "name": "python",
   "nbconvert_exporter": "python",
   "pygments_lexer": "ipython3",
   "version": "3.11.5"
  }
 },
 "nbformat": 4,
 "nbformat_minor": 5
}
